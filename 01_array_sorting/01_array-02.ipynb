{
 "metadata": {
  "language_info": {
   "codemirror_mode": {
    "name": "ipython",
    "version": 3
   },
   "file_extension": ".py",
   "mimetype": "text/x-python",
   "name": "python",
   "nbconvert_exporter": "python",
   "pygments_lexer": "ipython3",
   "version": "3.6.8"
  },
  "orig_nbformat": 2,
  "kernelspec": {
   "name": "python368jvsc74a57bd0b42a561cc890823e9d52dc43f917e74868c95473e61603288076839c7b1c413d",
   "display_name": "Python 3.6.8 64-bit ('kdh': conda)"
  }
 },
 "nbformat": 4,
 "nbformat_minor": 2,
 "cells": [
  {
   "cell_type": "code",
   "execution_count": 6,
   "metadata": {},
   "outputs": [
    {
     "output_type": "stream",
     "name": "stdout",
     "text": [
      "26\n"
     ]
    }
   ],
   "source": [
    "n, k = map(int, input().split(' '))\n",
    "A = map(int, input().split(' '))\n",
    "B = map(int, input().split(' '))\n",
    "s_A = sorted(A, reverse=False)\n",
    "s_B = sorted(B, reverse=True)\n",
    "for i in range(k):\n",
    "    s_A[i] = s_B[i]\n",
    "print(sum(s_A))\n"
   ]
  },
  {
   "cell_type": "code",
   "execution_count": null,
   "metadata": {},
   "outputs": [],
   "source": []
  }
 ]
}
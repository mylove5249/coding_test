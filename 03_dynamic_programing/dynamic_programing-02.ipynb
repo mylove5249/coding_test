{
 "metadata": {
  "language_info": {
   "codemirror_mode": {
    "name": "ipython",
    "version": 3
   },
   "file_extension": ".py",
   "mimetype": "text/x-python",
   "name": "python",
   "nbconvert_exporter": "python",
   "pygments_lexer": "ipython3",
   "version": "3.6.8"
  },
  "orig_nbformat": 4,
  "kernelspec": {
   "name": "python3",
   "display_name": "Python 3.6.8 64-bit ('kdh': conda)"
  },
  "interpreter": {
   "hash": "b42a561cc890823e9d52dc43f917e74868c95473e61603288076839c7b1c413d"
  }
 },
 "nbformat": 4,
 "nbformat_minor": 2,
 "cells": [
  {
   "source": [
    "# 바닥 공사"
   ],
   "cell_type": "markdown",
   "metadata": {}
  },
  {
   "cell_type": "code",
   "execution_count": 3,
   "metadata": {},
   "outputs": [
    {
     "output_type": "stream",
     "name": "stdout",
     "text": [
      "5\n"
     ]
    }
   ],
   "source": [
    "# 정수 입력받기\n",
    "n = int(input())\n",
    "# 저장용 배열 만들기\n",
    "result_array = [0] * 1001\n",
    "# 가로 길이만 고려\n",
    "# 가로 길이가 n-1 크기만큼 채워진 경우 2X1 하나로 채울 수 있음\n",
    "# 가로 길이가 n-2 크기만큼 채워진 경우 1X2 2개를 넣는 경우, 2X2 1개를 넣는 경우가 생김\n",
    "result_array[1] = 1\n",
    "result_array[2] = 3\n",
    "for i in range(3, n+1):\n",
    "    result_array[i] = (result_array[i-1] + (result_array[i-2]*2)) % 796796\n",
    "print(result_array[n])"
   ]
  },
  {
   "cell_type": "code",
   "execution_count": null,
   "metadata": {},
   "outputs": [],
   "source": []
  }
 ]
}
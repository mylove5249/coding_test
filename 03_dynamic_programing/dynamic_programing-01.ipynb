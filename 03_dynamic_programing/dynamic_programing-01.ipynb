{
 "metadata": {
  "language_info": {
   "codemirror_mode": {
    "name": "ipython",
    "version": 3
   },
   "file_extension": ".py",
   "mimetype": "text/x-python",
   "name": "python",
   "nbconvert_exporter": "python",
   "pygments_lexer": "ipython3",
   "version": "3.6.8"
  },
  "orig_nbformat": 2,
  "kernelspec": {
   "name": "python3",
   "display_name": "Python 3.6.8 64-bit ('kdh': conda)"
  },
  "interpreter": {
   "hash": "b42a561cc890823e9d52dc43f917e74868c95473e61603288076839c7b1c413d"
  }
 },
 "nbformat": 4,
 "nbformat_minor": 2,
 "cells": [
  {
   "source": [
    "# 개미 전사"
   ],
   "cell_type": "markdown",
   "metadata": {}
  },
  {
   "cell_type": "code",
   "execution_count": 3,
   "metadata": {},
   "outputs": [
    {
     "output_type": "stream",
     "name": "stdout",
     "text": [
      "8\n"
     ]
    }
   ],
   "source": [
    "# 정수 입력받기\n",
    "n = int(input())\n",
    "# 식량창고 관련 정보 받기\n",
    "k = list(map(int, input().split(' ')))\n",
    "# 정수만큼 식량창고 정보가 받아지면 진행\n",
    "if n == len(k):\n",
    "    #계산 결과 저장할 배열 만들기\n",
    "    result_array = [0] * 100\n",
    "    # 길이 n의 상황일 때 최대값은 (n-2번째까지의 최대값 + n번째 원소값), (n-1번째까지의 최대값) 중 큰 값이 됨 정수 입력받기\n",
    "    # 1번째와 2번째는 예외 사항으로 수동으로 값 채우기\n",
    "    result_array[0] = k[0]\n",
    "    result_array[1] = max(k[0], k[1])\n",
    "    for i in range(2, n):\n",
    "        result_array[i] = max(result_array[i-1], result_array[i-2] + k[i])\n",
    "    print(result_array[n-1])\n",
    "# 정수만큼 식량창고 정보가 받아지지 않으면 종료\n",
    "else:\n",
    "    print('식량창고의 개수가 다릅니다. \\n 프로그램을 종료합니다.')"
   ]
  },
  {
   "cell_type": "code",
   "execution_count": null,
   "metadata": {},
   "outputs": [],
   "source": []
  }
 ]
}
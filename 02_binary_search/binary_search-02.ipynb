{
 "metadata": {
  "language_info": {
   "codemirror_mode": {
    "name": "ipython",
    "version": 3
   },
   "file_extension": ".py",
   "mimetype": "text/x-python",
   "name": "python",
   "nbconvert_exporter": "python",
   "pygments_lexer": "ipython3",
   "version": "3.6.8"
  },
  "orig_nbformat": 2,
  "kernelspec": {
   "name": "python368jvsc74a57bd0b42a561cc890823e9d52dc43f917e74868c95473e61603288076839c7b1c413d",
   "display_name": "Python 3.6.8 64-bit ('kdh': conda)"
  }
 },
 "nbformat": 4,
 "nbformat_minor": 2,
 "cells": [
  {
   "source": [
    "# 떡볶이 떡 만들기"
   ],
   "cell_type": "markdown",
   "metadata": {}
  },
  {
   "cell_type": "code",
   "execution_count": 1,
   "metadata": {},
   "outputs": [
    {
     "output_type": "stream",
     "name": "stdout",
     "text": [
      "4,6\n",
      "[10, 15, 17, 19]\n",
      "[9, 14, 16, 18]\n",
      "[8, 13, 15, 17]\n",
      "[7, 12, 14, 16]\n",
      "[6, 11, 13, 15]\n",
      "[5, 10, 12, 14]\n",
      "[4, 9, 11, 13]\n",
      "[3, 8, 10, 12]\n",
      "[2, 7, 9, 11]\n",
      "[1, 6, 8, 10]\n",
      "[0, 5, 7, 9]\n",
      "[0, 4, 6, 8]\n",
      "[0, 3, 5, 7]\n",
      "[0, 2, 4, 6]\n",
      "[0, 1, 3, 5]\n",
      "[0, 0, 2, 4]\n",
      "15\n"
     ]
    }
   ],
   "source": [
    "N, M = map(int, input().split(' '))\n",
    "print('{0},{1}'.format(N, M))\n",
    "n_array = sorted(list(map(int, input().split(' '))))\n",
    "print(n_array)\n",
    "result = True\n",
    "h = 1\n",
    "while result == True:\n",
    "    if h > n_array[-1]:\n",
    "        print('error occurred. it is impossible.')\n",
    "        break\n",
    "    result_array = []\n",
    "    for i in range(N):\n",
    "        if (n_array[i] - h) > 0:\n",
    "            result_array.append(n_array[i]-h)\n",
    "        elif (n_array[i] - h) <= 0:\n",
    "            result_array.append(0)\n",
    "    print(result_array)\n",
    "    if sum(result_array) == M:\n",
    "        result = False\n",
    "        print(h)\n",
    "    else:\n",
    "        h += 1\n"
   ]
  },
  {
   "cell_type": "code",
   "execution_count": null,
   "metadata": {},
   "outputs": [],
   "source": []
  }
 ]
}
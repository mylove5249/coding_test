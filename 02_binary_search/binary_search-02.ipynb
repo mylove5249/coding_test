{
 "metadata": {
  "language_info": {
   "codemirror_mode": {
    "name": "ipython",
    "version": 3
   },
   "file_extension": ".py",
   "mimetype": "text/x-python",
   "name": "python",
   "nbconvert_exporter": "python",
   "pygments_lexer": "ipython3",
   "version": "3.6.8"
  },
  "orig_nbformat": 2,
  "kernelspec": {
   "name": "python3",
   "display_name": "Python 3.6.8 64-bit ('kdh': conda)"
  },
  "interpreter": {
   "hash": "b42a561cc890823e9d52dc43f917e74868c95473e61603288076839c7b1c413d"
  }
 },
 "nbformat": 4,
 "nbformat_minor": 2,
 "cells": [
  {
   "source": [
    "# 떡볶이 떡 만들기"
   ],
   "cell_type": "markdown",
   "metadata": {}
  },
  {
   "cell_type": "code",
   "execution_count": 8,
   "metadata": {},
   "outputs": [
    {
     "output_type": "stream",
     "name": "stdout",
     "text": [
      "4,3\n",
      "[10, 12, 12, 14]\n",
      "[0, 0, 0, 0]\n",
      "[0, 0, 0, 1]\n",
      "[0, 0, 0, 2]\n",
      "[0, 1, 1, 3]\n",
      "11\n"
     ]
    }
   ],
   "source": [
    "N, M = map(int, input().split(' '))\n",
    "print('{0},{1}'.format(N, M))\n",
    "n_array = sorted(list(map(int, input().split(' '))))\n",
    "print(n_array)\n",
    "result = True\n",
    "h = n_array[-1]\n",
    "while result == True:\n",
    "    if h < 0:\n",
    "        print('error occurred. it is impossible.')\n",
    "        break\n",
    "    result_array = []\n",
    "    for i in range(N):\n",
    "        if (n_array[i] - h) > 0:\n",
    "            result_array.append(n_array[i]-h)\n",
    "        elif (n_array[i] - h) <= 0:\n",
    "            result_array.append(0)\n",
    "    print(result_array)\n",
    "    if sum(result_array) >= M:\n",
    "        result = False\n",
    "        print(h)\n",
    "        break\n",
    "    else:\n",
    "        h -= 1"
   ]
  },
  {
   "cell_type": "code",
   "execution_count": null,
   "metadata": {},
   "outputs": [],
   "source": []
  }
 ]
}
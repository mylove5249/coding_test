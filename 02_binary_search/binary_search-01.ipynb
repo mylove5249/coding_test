{
 "metadata": {
  "language_info": {
   "codemirror_mode": {
    "name": "ipython",
    "version": 3
   },
   "file_extension": ".py",
   "mimetype": "text/x-python",
   "name": "python",
   "nbconvert_exporter": "python",
   "pygments_lexer": "ipython3",
   "version": "3.6.8"
  },
  "orig_nbformat": 2,
  "kernelspec": {
   "name": "python368jvsc74a57bd0b42a561cc890823e9d52dc43f917e74868c95473e61603288076839c7b1c413d",
   "display_name": "Python 3.6.8 64-bit ('kdh': conda)"
  }
 },
 "nbformat": 4,
 "nbformat_minor": 2,
 "cells": [
  {
   "cell_type": "code",
   "execution_count": 4,
   "metadata": {},
   "outputs": [
    {
     "output_type": "stream",
     "name": "stdout",
     "text": [
      "no yes yes "
     ]
    }
   ],
   "source": [
    "N = int(input())\n",
    "n_array = list(map(int, input().split(' ')))\n",
    "M = int(input())\n",
    "m_array = list(map(int, input().split(' ')))\n",
    "for i in range(M):\n",
    "    if m_array[i] in n_array:\n",
    "        print('yes', end=' ')\n",
    "    else:\n",
    "        print('no', end=' ')"
   ]
  },
  {
   "cell_type": "code",
   "execution_count": null,
   "metadata": {},
   "outputs": [],
   "source": []
  }
 ]
}
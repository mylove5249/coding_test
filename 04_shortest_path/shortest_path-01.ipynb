{
 "metadata": {
  "language_info": {
   "codemirror_mode": {
    "name": "ipython",
    "version": 3
   },
   "file_extension": ".py",
   "mimetype": "text/x-python",
   "name": "python",
   "nbconvert_exporter": "python",
   "pygments_lexer": "ipython3",
   "version": "3.6.8"
  },
  "orig_nbformat": 4,
  "kernelspec": {
   "name": "python3",
   "display_name": "Python 3.6.8 64-bit ('kdh': conda)"
  },
  "interpreter": {
   "hash": "b42a561cc890823e9d52dc43f917e74868c95473e61603288076839c7b1c413d"
  }
 },
 "nbformat": 4,
 "nbformat_minor": 2,
 "cells": [
  {
   "source": [
    "# 최단 경로 알고리즘\n",
    "## 1. 전보"
   ],
   "cell_type": "markdown",
   "metadata": {}
  },
  {
   "cell_type": "code",
   "execution_count": 6,
   "metadata": {},
   "outputs": [
    {
     "output_type": "stream",
     "name": "stdout",
     "text": [
      "2 4\n"
     ]
    }
   ],
   "source": [
    "import heapq\n",
    "import sys\n",
    "\n",
    "roots = int(1e9) # 무한 값 설정\n",
    "\n",
    "def rootings(start):\n",
    "    q = []\n",
    "    # 시작 노드로 가기 위한 최단 거리 삽입 \n",
    "    heapq.heappush(q, (0, start)) \n",
    "    distance[start] = 0 # q에 start 삽입\n",
    "    while q: # 큐가 비어있지 않다면\n",
    "        # 가장 최단 거리가 짧은 노드에 대한 정보를 꺼내기\n",
    "        dist, now = heapq.heappop(q)\n",
    "        if distance[now] < dist:\n",
    "            continue\n",
    "        # 현재 노드와 연결된 다른 인접한 노드들을 확인\n",
    "        for i in graph[now]:\n",
    "            cost = dist + i[1]\n",
    "            # 현재 노드를 거쳐서, 다른 노드로 이동하는 거리가 더 짧은 경우\n",
    "            if cost < distance[i[0]]:\n",
    "                distance[i[0]] = cost\n",
    "                heapq.heappush(q, (cost, i[0]))\n",
    "# n, m, c 입력받기\n",
    "n, m, c = map(int, input().split(' '))\n",
    "# 노드 정보 테이블 만들기\n",
    "graph = [[] for i in range(n+1)]\n",
    "# 최단 거리 테이블을 모두 무한으로 초기화\n",
    "distance = [roots] * (n+1)\n",
    "\n",
    "# x, y, z 입력받기\n",
    "for _ in range(m):\n",
    "    x, y, z = map(int, input().split(' '))\n",
    "    graph[x].append((y, z))\n",
    "\n",
    "# 알고리즘 시작\n",
    "rootings(c)\n",
    "\n",
    "# 도달할 수 있는 노드의 개수\n",
    "count = 0\n",
    "\n",
    "# 도달할 수 있는 노드 중에서, 가장 멀리 있는 노드와의 최단 거리\n",
    "max_distance = 0\n",
    "for d in distance:\n",
    "    # 도달할 수 있는 노드의 경우\n",
    "    if d != roots:\n",
    "        count += 1\n",
    "        max_distance = max(max_distance, d)\n",
    "# 시작 노드 제외를 위해 -1하여 출력\n",
    "print(count-1, max_distance)"
   ]
  },
  {
   "cell_type": "code",
   "execution_count": null,
   "metadata": {},
   "outputs": [],
   "source": []
  }
 ]
}
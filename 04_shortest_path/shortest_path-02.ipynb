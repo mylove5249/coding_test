{
 "metadata": {
  "language_info": {
   "codemirror_mode": {
    "name": "ipython",
    "version": 3
   },
   "file_extension": ".py",
   "mimetype": "text/x-python",
   "name": "python",
   "nbconvert_exporter": "python",
   "pygments_lexer": "ipython3",
   "version": "3.6.8"
  },
  "orig_nbformat": 4,
  "kernelspec": {
   "name": "python3",
   "display_name": "Python 3.6.8 64-bit ('kdh': conda)"
  },
  "interpreter": {
   "hash": "b42a561cc890823e9d52dc43f917e74868c95473e61603288076839c7b1c413d"
  }
 },
 "nbformat": 4,
 "nbformat_minor": 2,
 "cells": [
  {
   "source": [
    "# 최단 거리 알고리즘\n",
    "## 2. 미래 도시"
   ],
   "cell_type": "markdown",
   "metadata": {}
  },
  {
   "cell_type": "code",
   "execution_count": 7,
   "metadata": {},
   "outputs": [
    {
     "output_type": "stream",
     "name": "stdout",
     "text": [
      "-1\n"
     ]
    }
   ],
   "source": [
    "\n",
    "# INF 초기화(마지막 결과값에 사용할 변수)\n",
    "INF = int(1e9)\n",
    "\n",
    "# n, m 입력 받기\n",
    "N, M = map(int, input().split())\n",
    "\n",
    "# 인접한 회사들의 정보를 담기 위한 리스트 생성 (무한으로 초기화)\n",
    "connected = [[INF] * (N + 1) for _ in range(N + 1)]\n",
    "# for문을 돌며 append (1로 초기화)\n",
    "for _ in range(M):\n",
    "    a, b = map(int, input().split())\n",
    "    connected[a][b] = 1\n",
    "    connected[b][a] = 1\n",
    "\n",
    "# 회사 자신으로 가는 루트는 0\n",
    "for a in range(1, N + 1):\n",
    "    for b in range(1, N + 1):\n",
    "        if a == b:\n",
    "            connected[a][b] = 0\n",
    "\n",
    "# 플로이드 위셜 알고리즘\n",
    "# 한 번 실행하여 모든 노드 간 최단 경로를 구하기\n",
    "# 라운드마다 각 경로에서 새로운 중간 노드로 사용할 수 있는 노드를 선택하고, 더 짧은 길이를 선택하여 줄이는 과정을 반복\n",
    "for i in range(1, N + 1):\n",
    "    for a in range(1, N + 1):\n",
    "        for b in range(1, N + 1):\n",
    "            connected[a][b] = min(connected[a][b], connected[a][i] + connected[i][b])\n",
    "\n",
    "# x, k 입력받기\n",
    "X, K = map(int, input().split())\n",
    "\n",
    "# 1~k번 회사 최단 거리 + k~x번 회사 최단 거리 구하여 result에 저장\n",
    "result = connected[1][K] + connected[K][X]\n",
    "\n",
    "# 경로가 있다면 result 출력, 아니면 -1 출력\n",
    "if result < INF:\n",
    "    print(result)\n",
    "else:\n",
    "    print(-1)"
   ]
  },
  {
   "cell_type": "code",
   "execution_count": null,
   "metadata": {},
   "outputs": [],
   "source": []
  }
 ]
}